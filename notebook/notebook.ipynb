{
 "cells": [
  {
   "cell_type": "markdown",
   "id": "2588708a",
   "metadata": {},
   "source": [
    "### Wordcount test"
   ]
  },
  {
   "cell_type": "code",
   "execution_count": 1,
   "id": "5e00eb3a",
   "metadata": {},
   "outputs": [
    {
     "name": "stderr",
     "output_type": "stream",
     "text": [
      "your 131072x1 screen size is bogus. expect trouble\n",
      "Setting default log level to \"WARN\".\n",
      "To adjust logging level use sc.setLogLevel(newLevel). For SparkR, use setLogLevel(newLevel).\n"
     ]
    },
    {
     "name": "stdout",
     "output_type": "stream",
     "text": [
      "+-----+-----+\n",
      "|word |count|\n",
      "+-----+-----+\n",
      "|spark|2    |\n",
      "|is   |1    |\n",
      "|fast |1    |\n",
      "|hello|2    |\n",
      "|world|1    |\n",
      "+-----+-----+\n",
      "\n"
     ]
    }
   ],
   "source": [
    "from pyspark.sql import SparkSession\n",
    "from pyspark.sql.functions import explode, split, col\n",
    "\n",
    "# Создаем сессию\n",
    "spark = SparkSession.builder \\\n",
    "    .appName(\"WordCountWithDataFrame\") \\\n",
    "    .master(\"local[*]\") \\\n",
    "    .getOrCreate()\n",
    "\n",
    "# Читаем текстовый файл построчно\n",
    "lines = spark.read.text(\"example.txt\")\n",
    "\n",
    "# Разбиваем строки на слова\n",
    "words = lines.select(explode(split(col(\"value\"), \"\\\\s+\")).alias(\"word\"))\n",
    "\n",
    "# Считаем частоту слов\n",
    "word_counts = words.groupBy(\"word\").count()\n",
    "\n",
    "# Выводим результат\n",
    "word_counts.show(truncate=False)\n",
    "\n",
    "# Останавливаем сессию\n",
    "spark.stop()"
   ]
  },
  {
   "cell_type": "code",
   "execution_count": 2,
   "id": "7115f6c9",
   "metadata": {},
   "outputs": [
    {
     "name": "stdout",
     "output_type": "stream",
     "text": [
      "\n",
      "=== Spark Configuration Parameters ===\n",
      "spark.driver.extraJavaOptions: -Djava.net.preferIPv6Addresses=false -XX:+IgnoreUnrecognizedVMOptions --add-opens=java.base/java.lang=ALL-UNNAMED --add-opens=java.base/java.lang.invoke=ALL-UNNAMED --add-opens=java.base/java.lang.reflect=ALL-UNNAMED --add-opens=java.base/java.io=ALL-UNNAMED --add-opens=java.base/java.net=ALL-UNNAMED --add-opens=java.base/java.nio=ALL-UNNAMED --add-opens=java.base/java.util=ALL-UNNAMED --add-opens=java.base/java.util.concurrent=ALL-UNNAMED --add-opens=java.base/java.util.concurrent.atomic=ALL-UNNAMED --add-opens=java.base/jdk.internal.ref=ALL-UNNAMED --add-opens=java.base/sun.nio.ch=ALL-UNNAMED --add-opens=java.base/sun.nio.cs=ALL-UNNAMED --add-opens=java.base/sun.security.action=ALL-UNNAMED --add-opens=java.base/sun.util.calendar=ALL-UNNAMED --add-opens=java.security.jgss/sun.security.krb5=ALL-UNNAMED -Djdk.reflect.useDirectMethodHandle=false\n",
      "spark.default.parallelism: 12\n",
      "spark.driver.memory: 4g\n",
      "spark.executor.id: driver\n",
      "spark.driver.host: localhost\n",
      "spark.app.id: local-1745316839636\n",
      "spark.sql.shuffle.partitions: 12\n",
      "spark.ui.port: 4040\n",
      "spark.executor.cores: 4\n",
      "spark.serializer: org.apache.spark.serializer.KryoSerializer\n",
      "spark.app.submitTime: 1745316838670\n",
      "spark.app.name: WordCountWithDataFrame\n",
      "spark.driver.port: 37681\n",
      "spark.rdd.compress: True\n",
      "spark.executor.extraJavaOptions: -Djava.net.preferIPv6Addresses=false -XX:+IgnoreUnrecognizedVMOptions --add-opens=java.base/java.lang=ALL-UNNAMED --add-opens=java.base/java.lang.invoke=ALL-UNNAMED --add-opens=java.base/java.lang.reflect=ALL-UNNAMED --add-opens=java.base/java.io=ALL-UNNAMED --add-opens=java.base/java.net=ALL-UNNAMED --add-opens=java.base/java.nio=ALL-UNNAMED --add-opens=java.base/java.util=ALL-UNNAMED --add-opens=java.base/java.util.concurrent=ALL-UNNAMED --add-opens=java.base/java.util.concurrent.atomic=ALL-UNNAMED --add-opens=java.base/jdk.internal.ref=ALL-UNNAMED --add-opens=java.base/sun.nio.ch=ALL-UNNAMED --add-opens=java.base/sun.nio.cs=ALL-UNNAMED --add-opens=java.base/sun.security.action=ALL-UNNAMED --add-opens=java.base/sun.util.calendar=ALL-UNNAMED --add-opens=java.security.jgss/sun.security.krb5=ALL-UNNAMED -Djdk.reflect.useDirectMethodHandle=false\n",
      "spark.serializer.objectStreamReset: 100\n",
      "spark.driver.maxResultSize: 2g\n",
      "spark.master: local[*]\n",
      "spark.submit.pyFiles: \n",
      "spark.executor.memory: 8g\n",
      "spark.submit.deployMode: client\n",
      "spark.sql.warehouse.dir: file:/home/dolmachi/Projects/ITMO/MLOps/MLOps-lab5/notebook/spark-warehouse\n",
      "spark.ui.showConsoleProgress: true\n",
      "spark.app.startTime: 1745316838840\n",
      "spark.sql.execution.arrow.pyspark.enabled: true\n",
      "=== End Configuration ===\n",
      "\n"
     ]
    }
   ],
   "source": [
    "print(\"\\n=== Spark Configuration Parameters ===\")\n",
    "for k, v in spark.sparkContext.getConf().getAll():\n",
    "    print(f\"{k}: {v}\")\n",
    "print(\"=== End Configuration ===\\n\")"
   ]
  },
  {
   "cell_type": "markdown",
   "id": "ddd44e5f",
   "metadata": {},
   "source": [
    "## Модель"
   ]
  },
  {
   "cell_type": "code",
   "execution_count": null,
   "id": "8b9772f3",
   "metadata": {},
   "outputs": [],
   "source": []
  }
 ],
 "metadata": {
  "kernelspec": {
   "display_name": "mlops",
   "language": "python",
   "name": "python3"
  },
  "language_info": {
   "codemirror_mode": {
    "name": "ipython",
    "version": 3
   },
   "file_extension": ".py",
   "mimetype": "text/x-python",
   "name": "python",
   "nbconvert_exporter": "python",
   "pygments_lexer": "ipython3",
   "version": "3.12.2"
  }
 },
 "nbformat": 4,
 "nbformat_minor": 5
}
