{
 "cells": [
  {
   "cell_type": "code",
   "execution_count": 1,
   "id": "65a02f28",
   "metadata": {},
   "outputs": [
    {
     "name": "stderr",
     "output_type": "stream",
     "text": [
      "your 131072x1 screen size is bogus. expect trouble\n",
      "25/04/22 10:59:20 WARN Utils: Your hostname, DESKTOP-JFP4OA2 resolves to a loopback address: 127.0.1.1; using 172.19.30.241 instead (on interface eth0)\n",
      "25/04/22 10:59:20 WARN Utils: Set SPARK_LOCAL_IP if you need to bind to another address\n",
      "Setting default log level to \"WARN\".\n",
      "To adjust logging level use sc.setLogLevel(newLevel). For SparkR, use setLogLevel(newLevel).\n",
      "25/04/22 10:59:21 WARN NativeCodeLoader: Unable to load native-hadoop library for your platform... using builtin-java classes where applicable\n"
     ]
    },
    {
     "name": "stdout",
     "output_type": "stream",
     "text": [
      "+-----+-----+\n",
      "|word |count|\n",
      "+-----+-----+\n",
      "|spark|2    |\n",
      "|is   |1    |\n",
      "|fast |1    |\n",
      "|hello|2    |\n",
      "|world|1    |\n",
      "+-----+-----+\n",
      "\n"
     ]
    }
   ],
   "source": [
    "from pyspark.sql import SparkSession\n",
    "from pyspark.sql.functions import explode, split, col\n",
    "\n",
    "# Создаем сессию\n",
    "spark = SparkSession.builder \\\n",
    "    .appName(\"WordCountWithDataFrame\") \\\n",
    "    .master(\"local[*]\") \\\n",
    "    .getOrCreate()\n",
    "\n",
    "# Читаем текстовый файл построчно\n",
    "lines = spark.read.text(\"example.txt\")\n",
    "\n",
    "# Разбиваем строки на слова и \"взрываем\" их в отдельные строки\n",
    "words = lines.select(explode(split(col(\"value\"), \"\\\\s+\")).alias(\"word\"))\n",
    "\n",
    "# Считаем частоту слов\n",
    "word_counts = words.groupBy(\"word\").count()\n",
    "\n",
    "# Выводим результат\n",
    "word_counts.show(truncate=False)\n",
    "\n",
    "# Останавливаем сессию\n",
    "spark.stop()"
   ]
  }
 ],
 "metadata": {
  "kernelspec": {
   "display_name": "mlops",
   "language": "python",
   "name": "python3"
  },
  "language_info": {
   "codemirror_mode": {
    "name": "ipython",
    "version": 3
   },
   "file_extension": ".py",
   "mimetype": "text/x-python",
   "name": "python",
   "nbconvert_exporter": "python",
   "pygments_lexer": "ipython3",
   "version": "3.12.2"
  }
 },
 "nbformat": 4,
 "nbformat_minor": 5
}
